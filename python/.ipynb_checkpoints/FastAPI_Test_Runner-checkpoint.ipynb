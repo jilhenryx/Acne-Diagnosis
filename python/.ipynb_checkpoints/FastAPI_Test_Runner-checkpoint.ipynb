{
 "cells": [
  {
   "cell_type": "code",
   "execution_count": 8,
   "id": "8a9d61f2",
   "metadata": {},
   "outputs": [],
   "source": [
    "import sys  \n",
    "import os\n",
    "sys.path.append(os.path.abspath(r\"C:\\Users\\Jil Henry\\Documents\\Programming\\Final Year Project\\acne_diagnosis\\python\"))"
   ]
  },
  {
   "cell_type": "code",
   "execution_count": 11,
   "id": "450d9d90",
   "metadata": {},
   "outputs": [],
   "source": [
    "import numpy as np\n",
    "import tensorflow as tf\n",
    "from data_preprocessing import resize_rescale\n",
    "import constants as Constants\n",
    "import data_formatter as df"
   ]
  },
  {
   "cell_type": "code",
   "execution_count": 12,
   "id": "5be3719c",
   "metadata": {},
   "outputs": [],
   "source": [
    "BATCH_SIZE = 32\n",
    "IMG_SIZE = 224\n",
    "MODEL = tf.keras.models.load_model(Constants.MODEL_ABS_PATH)\n",
    "PARENT_FILE_PATH = './dataset/test/acne/'"
   ]
  },
  {
   "cell_type": "code",
   "execution_count": 19,
   "id": "e625e3bd",
   "metadata": {},
   "outputs": [
    {
     "data": {
      "text/plain": [
       "3"
      ]
     },
     "execution_count": 19,
     "metadata": {},
     "output_type": "execute_result"
    }
   ],
   "source": [
    "files = os.listdir(PARENT_FILE_PATH)\n",
    "images_array = []\n",
    "for file in files:\n",
    "    pil_image = images = tf.keras.utils.load_img(PARENT_FILE_PATH + file)\n",
    "    image_array = tf.keras.preprocessing.image.img_to_array(pil_image).tolist()\n",
    "    images_array.append(image_array)\n",
    "imgs_np_arr = np.array(images_array)\n",
    "images_batch = resize_rescale(imgs_np_arr)\n",
    "images_batch.shape\n",
    "predictions = MODEL.predict(images_batch)\n",
    "rd_pred = np.round_(predictions,2)\n",
    "num_predictions = len(predictions)\n",
    "num_predictions"
   ]
  },
  {
   "cell_type": "code",
   "execution_count": 27,
   "id": "1e9b42f0",
   "metadata": {},
   "outputs": [
    {
     "ename": "SyntaxError",
     "evalue": "unmatched ')' (3052919514.py, line 40)",
     "output_type": "error",
     "traceback": [
      "\u001b[1;36m  Input \u001b[1;32mIn [27]\u001b[1;36m\u001b[0m\n\u001b[1;33m    confidence = np.round_(_list_total[index] / num_predictions) * 100)\u001b[0m\n\u001b[1;37m                                                                      ^\u001b[0m\n\u001b[1;31mSyntaxError\u001b[0m\u001b[1;31m:\u001b[0m unmatched ')'\n"
     ]
    }
   ],
   "source": [
    "if num_predictions < 1:\n",
    "    print(df.format_result(\n",
    "        status='No Prediction',\n",
    "        result_type=Constants.RESULT_TYPE_CONC))\n",
    "\n",
    "pred_classes_code = np.array([], dtype='int64')\n",
    "confidence_list_total = np.zeros_like(predictions[0])\n",
    "\n",
    "if num_predictions == 1:\n",
    "    #return{\"prediction\":str(predictions)}\n",
    "    pred_class_code, confidence_list = df.format_prediction_result(\n",
    "            predictions[0])\n",
    "    print( df.format_result(\n",
    "            status='OK',\n",
    "            result_type=Constants.RESULT_TYPE_CONC,\n",
    "            pred_class=Constants.CLASS_NAMES[pred_class_code],\n",
    "            confidence= float(confidence_list[pred_class_code])\n",
    "        ))\n",
    "elif num_predictions > 1:\n",
    "    for prediction in predictions:\n",
    "        pred_class_code, confidence_list = df.format_prediction_result(\n",
    "                prediction)\n",
    "        pred_classes_code = np.append(pred_classes_code, pred_class_code)\n",
    "        confidence_list_total += confidence_list\n",
    "\n",
    "    print(confidence_list_total)\n",
    "    # Getting Number of  Most Occurring Class\n",
    "    pred_classes_code_mode = np.bincount(pred_classes_code)\n",
    "    max_num = np.max(pred_classes_code_mode)\n",
    "    pred_classes_code_mode_num = [x for x in pred_classes_code_mode if x == max_num]\n",
    "    # Return Results\n",
    "    if len(pred_classes_code_mode_num) > 1:\n",
    "        print(confidence_list_total)\n",
    "        print( df.format_result(\n",
    "              status='Inconclusive',\n",
    "              result_type=Constants.RESULT_TYPE_INCONC\n",
    "           ))\n",
    "    else:\n",
    "        index = pred_classes_code_mode.argmax()\n",
    "        confidence = np.round_(cist_total[index] / num_predictions) * 100)\n",
    "        pred_class = Constants.CLASS_NAMES[index]\n",
    "        print( df.format_result(\n",
    "                    status='OK',\n",
    "                    result_type=Constants.RESULT_TYPE_CONC,\n",
    "                    pred_class=pred_class,\n",
    "                    confidence=confidence\n",
    "                ))"
   ]
  }
 ],
 "metadata": {
  "kernelspec": {
   "display_name": "Python 3 (ipykernel)",
   "language": "python",
   "name": "python3"
  },
  "language_info": {
   "codemirror_mode": {
    "name": "ipython",
    "version": 3
   },
   "file_extension": ".py",
   "mimetype": "text/x-python",
   "name": "python",
   "nbconvert_exporter": "python",
   "pygments_lexer": "ipython3",
   "version": "3.9.7"
  }
 },
 "nbformat": 4,
 "nbformat_minor": 5
}
