{
 "cells": [
  {
   "cell_type": "code",
   "execution_count": 1,
   "id": "d6aa812d",
   "metadata": {},
   "outputs": [],
   "source": [
    "import numpy as np"
   ]
  },
  {
   "cell_type": "code",
   "execution_count": 102,
   "id": "d94d075e",
   "metadata": {},
   "outputs": [],
   "source": [
    "class_names_code = [0, 1]\n",
    "class_names = ['acne', 'not-acne']\n",
    "RESULT_TYPE = ['Inconclusive', 'Conclusive']\n",
    "RESULT_TYPE_INCONC = 0\n",
    "RESULT_TYPE_CONC = 1\n",
    "predictions = np.array(\n",
    "    [\n",
    "    ]\n",
    ")"
   ]
  },
  {
   "cell_type": "code",
   "execution_count": 103,
   "id": "9ae403e9",
   "metadata": {},
   "outputs": [],
   "source": [
    "def format_prediction_result(prediction):\n",
    "    pred_class_code = class_names_code[np.argmax(prediction)]\n",
    "    confidence_list = np.round(prediction, 2)\n",
    "\n",
    "    return pred_class_code, confidence_list"
   ]
  },
  {
   "cell_type": "code",
   "execution_count": 104,
   "id": "c40236e4",
   "metadata": {},
   "outputs": [],
   "source": [
    "def format_result(status, result_type, pred_class = '',confidence = ''):\n",
    "    result = RESULT_TYPE[result_type]\n",
    "    return {\n",
    "        'status': status,\n",
    "        'result': result,\n",
    "        'class': pred_class,\n",
    "        'confidence': confidence\n",
    "    }"
   ]
  },
  {
   "cell_type": "code",
   "execution_count": 106,
   "id": "1a1caf0d",
   "metadata": {
    "scrolled": true
   },
   "outputs": [
    {
     "name": "stdout",
     "output_type": "stream",
     "text": [
      "{'status': 'No Prediction', 'result': 'Inconclusive', 'class': '', 'confidence': ''}\n"
     ]
    },
    {
     "ename": "IndexError",
     "evalue": "index 0 is out of bounds for axis 0 with size 0",
     "output_type": "error",
     "traceback": [
      "\u001b[1;31m---------------------------------------------------------------------------\u001b[0m",
      "\u001b[1;31mIndexError\u001b[0m                                Traceback (most recent call last)",
      "Input \u001b[1;32mIn [106]\u001b[0m, in \u001b[0;36m<module>\u001b[1;34m\u001b[0m\n\u001b[0;32m      3\u001b[0m \u001b[38;5;28;01mif\u001b[39;00m num_predictions \u001b[38;5;241m<\u001b[39m \u001b[38;5;241m1\u001b[39m: \u001b[38;5;28mprint\u001b[39m (format_result(\u001b[38;5;124m'\u001b[39m\u001b[38;5;124mNo Prediction\u001b[39m\u001b[38;5;124m'\u001b[39m, RESULT_TYPE_INCONC))\n\u001b[0;32m      5\u001b[0m pred_classes \u001b[38;5;241m=\u001b[39m np\u001b[38;5;241m.\u001b[39marray([], dtype\u001b[38;5;241m=\u001b[39m\u001b[38;5;124m'\u001b[39m\u001b[38;5;124mint64\u001b[39m\u001b[38;5;124m'\u001b[39m)\n\u001b[1;32m----> 6\u001b[0m confidence_list_total \u001b[38;5;241m=\u001b[39m np\u001b[38;5;241m.\u001b[39mzeros_like(\u001b[43mpredictions\u001b[49m\u001b[43m[\u001b[49m\u001b[38;5;241;43m0\u001b[39;49m\u001b[43m]\u001b[49m)\n\u001b[0;32m      8\u001b[0m \u001b[38;5;28;01mif\u001b[39;00m num_predictions \u001b[38;5;241m==\u001b[39m \u001b[38;5;241m1\u001b[39m:\n\u001b[0;32m      9\u001b[0m     pred_class_code, confidence_list \u001b[38;5;241m=\u001b[39m format_prediction_result(predictions[\u001b[38;5;241m0\u001b[39m])\n",
      "\u001b[1;31mIndexError\u001b[0m: index 0 is out of bounds for axis 0 with size 0"
     ]
    }
   ],
   "source": [
    "num_predictions = len(predictions)\n",
    "\n",
    "if num_predictions < 1: print (format_result('No Prediction', RESULT_TYPE_INCONC))\n",
    "\n",
    "pred_classes = np.array([], dtype='int64')\n",
    "confidence_list_total = np.zeros_like(predictions[0])\n",
    "\n",
    "if num_predictions == 1:\n",
    "    pred_class_code, confidence_list = format_prediction_result(predictions[0])\n",
    "    print (format_result(\n",
    "        status = 'OK',\n",
    "        result_type = RESULT_TYPE_CONC,\n",
    "        pred_class = class_names[pred_class_code],\n",
    "        confidence = confidence_list[pred_class_code]\n",
    "    ))\n",
    "elif num_predictions > 1:\n",
    "    for prediction in predictions:\n",
    "        pred_class_code, confidence_list = format_prediction_result(prediction)\n",
    "        pred_classes = np.append(pred_classes, pred_class_code)\n",
    "        confidence_list_total += confidence_list\n",
    "        \n",
    "    # Getting Number of  Most Occurring Class\n",
    "    pred_classes_mode = np.bincount(pred_classes)\n",
    "    max = np.max(pred_classes_mode)\n",
    "    pred_classes_mode_num = [x for x in pred_classes_mode if x == max]\n",
    "    # Return Results\n",
    "    if len(pred_classes_mode_num) > 1:\n",
    "        print(confidence_list_total)\n",
    "        print(format_result(\n",
    "            status = 'OK',\n",
    "            result_type = RESULT_TYPE_INCONC\n",
    "        ))\n",
    "    else:\n",
    "        index = pred_classes_mode.argmax()\n",
    "        confidence = confidence_list_total[index] / num_predictions\n",
    "        pred_class = class_names[index]\n",
    "        print(format_result(\n",
    "            status = 'OK',\n",
    "            result_type = RESULT_TYPE_CONC,\n",
    "            pred_class = pred_class,\n",
    "            confidence = confidence\n",
    "        ))"
   ]
  },
  {
   "cell_type": "code",
   "execution_count": 2,
   "id": "edf26c86",
   "metadata": {},
   "outputs": [],
   "source": [
    "list1 = np.array([\n",
    "    [\n",
    "        [1,2,3],\n",
    "        [1,2,3],\n",
    "        [1,2,3],\n",
    "        [1,2,3],\n",
    "        [1,2,3],\n",
    "    ],\n",
    "    [\n",
    "        [1,2,3],\n",
    "        [1,2,3],\n",
    "        [1,2,3],\n",
    "        [1,2,3],\n",
    "        [1,2,3],\n",
    "    ],\n",
    "    [\n",
    "        [1,2,3],\n",
    "        [1,2,3],\n",
    "        [1,2,3],\n",
    "        [1,2,3],\n",
    "        [1,2,3],\n",
    "    ],\n",
    "])"
   ]
  },
  {
   "cell_type": "code",
   "execution_count": 28,
   "id": "c0887de5",
   "metadata": {},
   "outputs": [
    {
     "data": {
      "text/plain": [
       "{'list': (5, 3, 5, 3)}"
      ]
     },
     "execution_count": 28,
     "metadata": {},
     "output_type": "execute_result"
    }
   ],
   "source": [
    "list2 =[]\n",
    "for _ in range(5):\n",
    "    list2.append(list1)\n",
    "value = {\"list\":np.array(list2).shape}\n",
    "value"
   ]
  },
  {
   "cell_type": "code",
   "execution_count": 20,
   "id": "1491fc48",
   "metadata": {},
   "outputs": [],
   "source": [
    "from tensorflow import keras"
   ]
  },
  {
   "cell_type": "code",
   "execution_count": 21,
   "id": "3d953a0f",
   "metadata": {},
   "outputs": [],
   "source": [
    "IMG_SIZE = 224\n",
    "DATA_AUG = keras.Sequential([\n",
    "        keras.layers.experimental.preprocessing.Resizing(IMG_SIZE, IMG_SIZE),\n",
    "        keras.layers.experimental.preprocessing.Rescaling(1.0/255)\n",
    "    ],\n",
    "        name=\"Resize_Rescale\"\n",
    "    )\n",
    "\n",
    "\n",
    "def resize_rescale(images):\n",
    "    aug_images = []\n",
    "    for image in images:\n",
    "        aug_image = DATA_AUG(image)\n",
    "        aug_images.append(aug_image)\n",
    "    return np.array(aug_images)"
   ]
  },
  {
   "cell_type": "code",
   "execution_count": 26,
   "id": "29351a1f",
   "metadata": {},
   "outputs": [
    {
     "data": {
      "text/plain": [
       "(1, 224, 224, 3)"
      ]
     },
     "execution_count": 26,
     "metadata": {},
     "output_type": "execute_result"
    }
   ],
   "source": [
    "list2 =np.expand_dims(list1,0)\n",
    "resize_rescale(list2).shape"
   ]
  },
  {
   "cell_type": "code",
   "execution_count": 29,
   "id": "a5d8c6a9",
   "metadata": {},
   "outputs": [
    {
     "data": {
      "text/plain": [
       "2"
      ]
     },
     "execution_count": 29,
     "metadata": {},
     "output_type": "execute_result"
    }
   ],
   "source": [
    "a = [3.6,3.6,3.7]\n",
    "np.argmax(a)"
   ]
  }
 ],
 "metadata": {
  "kernelspec": {
   "display_name": "Python 3 (ipykernel)",
   "language": "python",
   "name": "python3"
  },
  "language_info": {
   "codemirror_mode": {
    "name": "ipython",
    "version": 3
   },
   "file_extension": ".py",
   "mimetype": "text/x-python",
   "name": "python",
   "nbconvert_exporter": "python",
   "pygments_lexer": "ipython3",
   "version": "3.9.7"
  }
 },
 "nbformat": 4,
 "nbformat_minor": 5
}
