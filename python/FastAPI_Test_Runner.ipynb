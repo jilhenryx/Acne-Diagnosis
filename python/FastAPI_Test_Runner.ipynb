{
 "cells": [
  {
   "cell_type": "code",
   "execution_count": 1,
   "id": "8a9d61f2",
   "metadata": {},
   "outputs": [],
   "source": [
    "import sys  \n",
    "import os\n",
    "sys.path.append(os.path.abspath(r\"C:\\Users\\Jil Henry\\Documents\\Programming\\Final Year Project\\acne_diagnosis\\python\"))\n",
    "sys.path.append(os.path.abspath(r\"C:\\Users\\Jil Henry\\Documents\\Programming\\Final Year Project\\acne_diagnosis\\python\\api\"))"
   ]
  },
  {
   "cell_type": "code",
   "execution_count": 82,
   "id": "450d9d90",
   "metadata": {},
   "outputs": [],
   "source": [
    "import numpy as np\n",
    "import tensorflow as tf\n",
    "from tensorflow.keras import layers\n",
    "from data_preprocessing import resize_rescale\n",
    "import constants as Constants\n",
    "import data_formatter as df"
   ]
  },
  {
   "cell_type": "code",
   "execution_count": 83,
   "id": "5be3719c",
   "metadata": {},
   "outputs": [],
   "source": [
    "MODEL = tf.keras.models.load_model('./saved_models/7')"
   ]
  },
  {
   "cell_type": "code",
   "execution_count": 100,
   "id": "9a697d69",
   "metadata": {},
   "outputs": [
    {
     "name": "stdout",
     "output_type": "stream",
     "text": [
      "Found 7 files belonging to 1 classes.\n"
     ]
    }
   ],
   "source": [
    "#Getting Dataset from Storage\n",
    "dataset = tf.keras.utils.image_dataset_from_directory(\n",
    "    './dataset/test/',\n",
    "    image_size = (224,224),\n",
    "    shuffle=False,\n",
    ")\n",
    "# tf_images = [imgs.numpy() for imgs,_ in dataset.take(1)][0]\n",
    "# tf_images = resize_rescale(tf_images)"
   ]
  },
  {
   "cell_type": "code",
   "execution_count": 44,
   "id": "06deba7b",
   "metadata": {},
   "outputs": [
    {
     "name": "stdout",
     "output_type": "stream",
     "text": [
      "TF Images Aray Type: (7, 224, 224, 3)\n"
     ]
    }
   ],
   "source": [
    "print(f\"TF Images Aray Type: {tf_images.shape}\")"
   ]
  },
  {
   "cell_type": "code",
   "execution_count": 99,
   "id": "e625e3bd",
   "metadata": {},
   "outputs": [
    {
     "data": {
      "text/plain": [
       "[[0.7557064890861511, 0.24429355561733246],\n",
       " [0.5704280734062195, 0.42957189679145813],\n",
       " [0.8196278810501099, 0.18037213385105133],\n",
       " [0.8360050320625305, 0.16399504244327545],\n",
       " [0.8365836143493652, 0.16341635584831238],\n",
       " [0.6122899651527405, 0.3877100348472595],\n",
       " [0.7663037180900574, 0.23369628190994263]]"
      ]
     },
     "execution_count": 99,
     "metadata": {},
     "output_type": "execute_result"
    }
   ],
   "source": [
    "PARENT_FILE_PATH = './dataset/test/acne/'\n",
    "files = os.listdir(PARENT_FILE_PATH)\n",
    "\n",
    "images_array = []\n",
    "predictions = []\n",
    "for file in files:\n",
    "    pil_image = tf.keras.utils.load_img(PARENT_FILE_PATH + file,target_size=(224,224))\n",
    "    image_array = tf.keras.preprocessing.image.img_to_array(pil_image)\n",
    "    image_array = tf.expand_dims(image_array,0)\n",
    "#     image_array = resize_rescale(image_array)\n",
    "#     print(f\"Image_Array: {image_array.shape}\")\n",
    "    prediction = MODEL.predict(image_array).tolist()\n",
    "    predictions.append(prediction[0])\n",
    "predictions"
   ]
  },
  {
   "cell_type": "code",
   "execution_count": 46,
   "id": "c5706af7",
   "metadata": {},
   "outputs": [
    {
     "name": "stdout",
     "output_type": "stream",
     "text": [
      "Images Aray Type: (7, 224, 224, 3)\n"
     ]
    }
   ],
   "source": [
    "print(f\"Images Aray Type: {images_array.shape}\")"
   ]
  },
  {
   "cell_type": "code",
   "execution_count": 101,
   "id": "56d2f259",
   "metadata": {},
   "outputs": [
    {
     "data": {
      "text/plain": [
       "[[0.7571082711219788, 0.24289175868034363],\n",
       " [0.5776153802871704, 0.4223845303058624],\n",
       " [0.8202861547470093, 0.17971380054950714],\n",
       " [0.8351976871490479, 0.16480228304862976],\n",
       " [0.8379772305488586, 0.16202273964881897],\n",
       " [0.613267183303833, 0.3867327868938446],\n",
       " [0.7675308585166931, 0.2324691265821457]]"
      ]
     },
     "execution_count": 101,
     "metadata": {},
     "output_type": "execute_result"
    }
   ],
   "source": [
    "tf_predictions = []\n",
    "images_array = []\n",
    "for images,labels in dataset.take(1):\n",
    "    for i in range(len(images)):\n",
    "        img_array = tf.keras.preprocessing.image.img_to_array(images[i].numpy())\n",
    "        img_array = tf.expand_dims(img_array,0)\n",
    "#         images_array.append(img_array)\n",
    "        prediction = MODEL.predict(img_array).tolist()\n",
    "        tf_predictions.append(prediction[0])\n",
    "tf_predictions"
   ]
  },
  {
   "cell_type": "code",
   "execution_count": 49,
   "id": "a1dff53b",
   "metadata": {},
   "outputs": [
    {
     "ename": "ValueError",
     "evalue": "in user code:\n\n    File \"C:\\Users\\Jil Henry\\anaconda3\\envs\\deeplearning\\lib\\site-packages\\keras\\engine\\training.py\", line 1801, in predict_function  *\n        return step_function(self, iterator)\n    File \"C:\\Users\\Jil Henry\\anaconda3\\envs\\deeplearning\\lib\\site-packages\\keras\\engine\\training.py\", line 1790, in step_function  **\n        outputs = model.distribute_strategy.run(run_step, args=(data,))\n    File \"C:\\Users\\Jil Henry\\anaconda3\\envs\\deeplearning\\lib\\site-packages\\keras\\engine\\training.py\", line 1783, in run_step  **\n        outputs = model.predict_step(data)\n    File \"C:\\Users\\Jil Henry\\anaconda3\\envs\\deeplearning\\lib\\site-packages\\keras\\engine\\training.py\", line 1751, in predict_step\n        return self(x, training=False)\n    File \"C:\\Users\\Jil Henry\\anaconda3\\envs\\deeplearning\\lib\\site-packages\\keras\\utils\\traceback_utils.py\", line 67, in error_handler\n        raise e.with_traceback(filtered_tb) from None\n    File \"C:\\Users\\Jil Henry\\anaconda3\\envs\\deeplearning\\lib\\site-packages\\keras\\engine\\input_spec.py\", line 200, in assert_input_compatibility\n        raise ValueError(f'Layer \"{layer_name}\" expects {len(input_spec)} input(s),'\n\n    ValueError: Layer \"model_10\" expects 1 input(s), but it received 7 input tensors. Inputs received: [<tf.Tensor 'IteratorGetNext:0' shape=(32, 224, 3) dtype=float32>, <tf.Tensor 'IteratorGetNext:1' shape=(32, 224, 3) dtype=float32>, <tf.Tensor 'IteratorGetNext:2' shape=(32, 224, 3) dtype=float32>, <tf.Tensor 'IteratorGetNext:3' shape=(32, 224, 3) dtype=float32>, <tf.Tensor 'IteratorGetNext:4' shape=(32, 224, 3) dtype=float32>, <tf.Tensor 'IteratorGetNext:5' shape=(32, 224, 3) dtype=float32>, <tf.Tensor 'IteratorGetNext:6' shape=(32, 224, 3) dtype=float32>]\n",
     "output_type": "error",
     "traceback": [
      "\u001b[1;31m---------------------------------------------------------------------------\u001b[0m",
      "\u001b[1;31mValueError\u001b[0m                                Traceback (most recent call last)",
      "\u001b[1;32m~\\AppData\\Local\\Temp\\ipykernel_11600\\2158835168.py\u001b[0m in \u001b[0;36m<module>\u001b[1;34m\u001b[0m\n\u001b[1;32m----> 1\u001b[1;33m \u001b[0mpredictions\u001b[0m \u001b[1;33m=\u001b[0m \u001b[0mMODEL\u001b[0m\u001b[1;33m.\u001b[0m\u001b[0mpredict\u001b[0m\u001b[1;33m(\u001b[0m\u001b[0mtf_images_array\u001b[0m\u001b[1;33m)\u001b[0m\u001b[1;33m\u001b[0m\u001b[1;33m\u001b[0m\u001b[0m\n\u001b[0m\u001b[0;32m      2\u001b[0m \u001b[0mnum_predictions\u001b[0m \u001b[1;33m=\u001b[0m \u001b[0mlen\u001b[0m\u001b[1;33m(\u001b[0m\u001b[0mpredictions\u001b[0m\u001b[1;33m)\u001b[0m\u001b[1;33m\u001b[0m\u001b[1;33m\u001b[0m\u001b[0m\n\u001b[0;32m      3\u001b[0m \u001b[0mprint\u001b[0m\u001b[1;33m(\u001b[0m\u001b[1;34mf\"Predictions: {predictions.tolist()}\"\u001b[0m\u001b[1;33m)\u001b[0m\u001b[1;33m\u001b[0m\u001b[1;33m\u001b[0m\u001b[0m\n",
      "\u001b[1;32m~\\anaconda3\\envs\\deeplearning\\lib\\site-packages\\keras\\utils\\traceback_utils.py\u001b[0m in \u001b[0;36merror_handler\u001b[1;34m(*args, **kwargs)\u001b[0m\n\u001b[0;32m     65\u001b[0m     \u001b[1;32mexcept\u001b[0m \u001b[0mException\u001b[0m \u001b[1;32mas\u001b[0m \u001b[0me\u001b[0m\u001b[1;33m:\u001b[0m  \u001b[1;31m# pylint: disable=broad-except\u001b[0m\u001b[1;33m\u001b[0m\u001b[1;33m\u001b[0m\u001b[0m\n\u001b[0;32m     66\u001b[0m       \u001b[0mfiltered_tb\u001b[0m \u001b[1;33m=\u001b[0m \u001b[0m_process_traceback_frames\u001b[0m\u001b[1;33m(\u001b[0m\u001b[0me\u001b[0m\u001b[1;33m.\u001b[0m\u001b[0m__traceback__\u001b[0m\u001b[1;33m)\u001b[0m\u001b[1;33m\u001b[0m\u001b[1;33m\u001b[0m\u001b[0m\n\u001b[1;32m---> 67\u001b[1;33m       \u001b[1;32mraise\u001b[0m \u001b[0me\u001b[0m\u001b[1;33m.\u001b[0m\u001b[0mwith_traceback\u001b[0m\u001b[1;33m(\u001b[0m\u001b[0mfiltered_tb\u001b[0m\u001b[1;33m)\u001b[0m \u001b[1;32mfrom\u001b[0m \u001b[1;32mNone\u001b[0m\u001b[1;33m\u001b[0m\u001b[1;33m\u001b[0m\u001b[0m\n\u001b[0m\u001b[0;32m     68\u001b[0m     \u001b[1;32mfinally\u001b[0m\u001b[1;33m:\u001b[0m\u001b[1;33m\u001b[0m\u001b[1;33m\u001b[0m\u001b[0m\n\u001b[0;32m     69\u001b[0m       \u001b[1;32mdel\u001b[0m \u001b[0mfiltered_tb\u001b[0m\u001b[1;33m\u001b[0m\u001b[1;33m\u001b[0m\u001b[0m\n",
      "\u001b[1;32m~\\anaconda3\\envs\\deeplearning\\lib\\site-packages\\tensorflow\\python\\framework\\func_graph.py\u001b[0m in \u001b[0;36mautograph_handler\u001b[1;34m(*args, **kwargs)\u001b[0m\n\u001b[0;32m   1145\u001b[0m           \u001b[1;32mexcept\u001b[0m \u001b[0mException\u001b[0m \u001b[1;32mas\u001b[0m \u001b[0me\u001b[0m\u001b[1;33m:\u001b[0m  \u001b[1;31m# pylint:disable=broad-except\u001b[0m\u001b[1;33m\u001b[0m\u001b[1;33m\u001b[0m\u001b[0m\n\u001b[0;32m   1146\u001b[0m             \u001b[1;32mif\u001b[0m \u001b[0mhasattr\u001b[0m\u001b[1;33m(\u001b[0m\u001b[0me\u001b[0m\u001b[1;33m,\u001b[0m \u001b[1;34m\"ag_error_metadata\"\u001b[0m\u001b[1;33m)\u001b[0m\u001b[1;33m:\u001b[0m\u001b[1;33m\u001b[0m\u001b[1;33m\u001b[0m\u001b[0m\n\u001b[1;32m-> 1147\u001b[1;33m               \u001b[1;32mraise\u001b[0m \u001b[0me\u001b[0m\u001b[1;33m.\u001b[0m\u001b[0mag_error_metadata\u001b[0m\u001b[1;33m.\u001b[0m\u001b[0mto_exception\u001b[0m\u001b[1;33m(\u001b[0m\u001b[0me\u001b[0m\u001b[1;33m)\u001b[0m\u001b[1;33m\u001b[0m\u001b[1;33m\u001b[0m\u001b[0m\n\u001b[0m\u001b[0;32m   1148\u001b[0m             \u001b[1;32melse\u001b[0m\u001b[1;33m:\u001b[0m\u001b[1;33m\u001b[0m\u001b[1;33m\u001b[0m\u001b[0m\n\u001b[0;32m   1149\u001b[0m               \u001b[1;32mraise\u001b[0m\u001b[1;33m\u001b[0m\u001b[1;33m\u001b[0m\u001b[0m\n",
      "\u001b[1;31mValueError\u001b[0m: in user code:\n\n    File \"C:\\Users\\Jil Henry\\anaconda3\\envs\\deeplearning\\lib\\site-packages\\keras\\engine\\training.py\", line 1801, in predict_function  *\n        return step_function(self, iterator)\n    File \"C:\\Users\\Jil Henry\\anaconda3\\envs\\deeplearning\\lib\\site-packages\\keras\\engine\\training.py\", line 1790, in step_function  **\n        outputs = model.distribute_strategy.run(run_step, args=(data,))\n    File \"C:\\Users\\Jil Henry\\anaconda3\\envs\\deeplearning\\lib\\site-packages\\keras\\engine\\training.py\", line 1783, in run_step  **\n        outputs = model.predict_step(data)\n    File \"C:\\Users\\Jil Henry\\anaconda3\\envs\\deeplearning\\lib\\site-packages\\keras\\engine\\training.py\", line 1751, in predict_step\n        return self(x, training=False)\n    File \"C:\\Users\\Jil Henry\\anaconda3\\envs\\deeplearning\\lib\\site-packages\\keras\\utils\\traceback_utils.py\", line 67, in error_handler\n        raise e.with_traceback(filtered_tb) from None\n    File \"C:\\Users\\Jil Henry\\anaconda3\\envs\\deeplearning\\lib\\site-packages\\keras\\engine\\input_spec.py\", line 200, in assert_input_compatibility\n        raise ValueError(f'Layer \"{layer_name}\" expects {len(input_spec)} input(s),'\n\n    ValueError: Layer \"model_10\" expects 1 input(s), but it received 7 input tensors. Inputs received: [<tf.Tensor 'IteratorGetNext:0' shape=(32, 224, 3) dtype=float32>, <tf.Tensor 'IteratorGetNext:1' shape=(32, 224, 3) dtype=float32>, <tf.Tensor 'IteratorGetNext:2' shape=(32, 224, 3) dtype=float32>, <tf.Tensor 'IteratorGetNext:3' shape=(32, 224, 3) dtype=float32>, <tf.Tensor 'IteratorGetNext:4' shape=(32, 224, 3) dtype=float32>, <tf.Tensor 'IteratorGetNext:5' shape=(32, 224, 3) dtype=float32>, <tf.Tensor 'IteratorGetNext:6' shape=(32, 224, 3) dtype=float32>]\n"
     ]
    }
   ],
   "source": [
    "predictions = MODEL.predict(tf_images_array)\n",
    "num_predictions = len(predictions)\n",
    "print(f\"Predictions: {predictions.tolist()}\")"
   ]
  },
  {
   "cell_type": "code",
   "execution_count": null,
   "id": "1e9b42f0",
   "metadata": {},
   "outputs": [],
   "source": [
    "print(f\"Num of Predictions: {num_predictions}\")\n",
    "if num_predictions < 1:\n",
    "    print(df.format_result(\n",
    "        status='No Prediction',\n",
    "        result_type=Constants.RESULT_TYPE_CONC))\n",
    "\n",
    "pred_classes_code = np.array([], dtype='int64')\n",
    "confidence_list_total = np.zeros_like(predictions[0])\n",
    "\n",
    "if num_predictions == 1:\n",
    "    #return{\"prediction\":str(predictions)}\n",
    "    pred_class_code, confidence_list = df.format_prediction_result(\n",
    "            predictions[0])\n",
    "    #print(np.round(confidence_list.tolist()[pred_class_code],2))\n",
    "    print( df.format_result(\n",
    "            status='OK',\n",
    "            result_type=Constants.RESULT_TYPE_CONC,\n",
    "            pred_class=Constants.CLASS_NAMES[pred_class_code],\n",
    "            confidence= np.round(confidence_list.tolist()[pred_class_code],2) * 100,\n",
    "        ))\n",
    "elif num_predictions > 1:\n",
    "    for prediction in predictions:\n",
    "        pred_class_code, confidence_list = df.format_prediction_result(\n",
    "                prediction)\n",
    "        pred_classes_code = np.append(pred_classes_code, pred_class_code)\n",
    "        confidence_list_total += confidence_list\n",
    "\n",
    "    print(f\"Confidence Total = {confidence_list_total}\")\n",
    "    # Getting Number of  Most Occurring Class\n",
    "    pred_classes_code_mode = np.bincount(pred_classes_code)\n",
    "    max_num = np.max(pred_classes_code_mode)\n",
    "    pred_classes_code_mode_num = [x for x in pred_classes_code_mode if x == max_num]\n",
    "    # Return Results\n",
    "    if len(pred_classes_code_mode_num) > 1:\n",
    "        print(confidence_list_total)\n",
    "        print( df.format_result(\n",
    "              status='Inconclusive',\n",
    "              result_type=Constants.RESULT_TYPE_INCONC\n",
    "           ))\n",
    "    else:\n",
    "        index = pred_classes_code_mode.argmax()\n",
    "        print(f\"Predicted Index: {index}\")\n",
    "        confidence = np.round(((confidence_list_total[index] / num_predictions) * 100),2)\n",
    "        pred_class = Constants.CLASS_NAMES[index]\n",
    "        print( df.format_result(\n",
    "                    status='OK',\n",
    "                    result_type=Constants.RESULT_TYPE_CONC,\n",
    "                    pred_class=pred_class,\n",
    "                    confidence=confidence\n",
    "                ))"
   ]
  }
 ],
 "metadata": {
  "kernelspec": {
   "display_name": "Python 3 (ipykernel)",
   "language": "python",
   "name": "python3"
  },
  "language_info": {
   "codemirror_mode": {
    "name": "ipython",
    "version": 3
   },
   "file_extension": ".py",
   "mimetype": "text/x-python",
   "name": "python",
   "nbconvert_exporter": "python",
   "pygments_lexer": "ipython3",
   "version": "3.7.11"
  }
 },
 "nbformat": 4,
 "nbformat_minor": 5
}
