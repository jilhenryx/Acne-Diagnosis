{
 "cells": [
  {
   "cell_type": "code",
   "execution_count": 24,
   "id": "8a9d61f2",
   "metadata": {},
   "outputs": [],
   "source": [
    "import sys  \n",
    "import os\n",
    "sys.path.append(os.path.abspath(r\"C:\\Users\\Jil Henry\\Documents\\Programming\\Final Year Project\\acne_diagnosis\\python\"))\n",
    "sys.path.append(os.path.abspath(r\"C:\\Users\\Jil Henry\\Documents\\Programming\\Final Year Project\\acne_diagnosis\\python\\api\"))"
   ]
  },
  {
   "cell_type": "code",
   "execution_count": 25,
   "id": "450d9d90",
   "metadata": {},
   "outputs": [],
   "source": [
    "import numpy as np\n",
    "import tensorflow as tf\n",
    "from tensorflow.keras import layers\n",
    "from data_preprocessing import resize_rescale\n",
    "import constants as Constants\n",
    "import data_formatter as df"
   ]
  },
  {
   "cell_type": "code",
   "execution_count": 26,
   "id": "5be3719c",
   "metadata": {},
   "outputs": [],
   "source": [
    "MODEL = tf.keras.models.load_model('./saved_models/8')"
   ]
  },
  {
   "cell_type": "code",
   "execution_count": 34,
   "id": "e625e3bd",
   "metadata": {},
   "outputs": [
    {
     "data": {
      "text/plain": [
       "numpy.ndarray"
      ]
     },
     "execution_count": 34,
     "metadata": {},
     "output_type": "execute_result"
    }
   ],
   "source": [
    "PARENT_FILE_PATH = './dataset/test/'\n",
    "files = os.listdir(PARENT_FILE_PATH)\n",
    "\n",
    "images_array = []\n",
    "predictions = []\n",
    "for file in files:\n",
    "    pil_image = tf.keras.utils.load_img(PARENT_FILE_PATH + file,target_size=(224,224))\n",
    "    image_array = tf.keras.preprocessing.image.img_to_array(pil_image)\n",
    "    image_array = tf.expand_dims(image_array,0).numpy()\n",
    "#     image_array = resize_rescale(image_array)\n",
    "#     print(f\"Image_Array: {image_array.shape}\")\n",
    "#     prediction = MODEL.predict(image_array).tolist()\n",
    "#     predictions.append(prediction[0])\n",
    "    images_array.append(image_array[0])\n",
    "images_array = np.array(images_array)\n",
    "type(images_array)"
   ]
  },
  {
   "cell_type": "code",
   "execution_count": 35,
   "id": "a1dff53b",
   "metadata": {},
   "outputs": [
    {
     "name": "stdout",
     "output_type": "stream",
     "text": [
      "Predictions: [[0.35111353 0.64888644]\n",
      " [0.22441503 0.775585  ]\n",
      " [0.27334276 0.7266572 ]\n",
      " [0.6193698  0.38063025]\n",
      " [0.9890593  0.01094069]]\n"
     ]
    }
   ],
   "source": [
    "predictions = MODEL.predict(images_array)\n",
    "num_predictions = len(predictions)\n",
    "print(f\"Predictions: {predictions}\")"
   ]
  },
  {
   "cell_type": "code",
   "execution_count": 36,
   "id": "1e9b42f0",
   "metadata": {},
   "outputs": [
    {
     "name": "stdout",
     "output_type": "stream",
     "text": [
      "Num of Predictions: 5\n",
      "Confidence Total = [2.45 2.55]\n",
      "Predicted Index: 1\n",
      "{'status': 'OK', 'resultType': 'Conclusive', 'predClass': 'not-acne', 'confidence': 51.0}\n"
     ]
    }
   ],
   "source": [
    "print(f\"Num of Predictions: {num_predictions}\")\n",
    "if num_predictions < 1:\n",
    "    print(df.format_result(\n",
    "        status='No Prediction',\n",
    "        result_type=Constants.RESULT_TYPE_CONC))\n",
    "\n",
    "pred_classes_code = np.array([], dtype='int64')\n",
    "confidence_list_total = np.zeros_like(predictions[0])\n",
    "\n",
    "if num_predictions == 1:\n",
    "    #return{\"prediction\":str(predictions)}\n",
    "    pred_class_code, confidence_list = df.format_prediction_result(\n",
    "            predictions[0])\n",
    "    #print(np.round(confidence_list.tolist()[pred_class_code],2))\n",
    "    print( df.format_result(\n",
    "            status='OK',\n",
    "            result_type=Constants.RESULT_TYPE_CONC,\n",
    "            pred_class=Constants.CLASS_NAMES[pred_class_code],\n",
    "            confidence= np.round(confidence_list.tolist()[pred_class_code],2) * 100,\n",
    "        ))\n",
    "elif num_predictions > 1:\n",
    "    for prediction in predictions:\n",
    "        pred_class_code, confidence_list = df.format_prediction_result(\n",
    "                prediction)\n",
    "        pred_classes_code = np.append(pred_classes_code, pred_class_code)\n",
    "        confidence_list_total += confidence_list\n",
    "\n",
    "    print(f\"Confidence Total = {confidence_list_total}\")\n",
    "    # Getting Number of  Most Occurring Class\n",
    "    pred_classes_code_mode = np.bincount(pred_classes_code)\n",
    "    max_num = np.max(pred_classes_code_mode)\n",
    "    pred_classes_code_mode_num = [x for x in pred_classes_code_mode if x == max_num]\n",
    "    # Return Results\n",
    "    if len(pred_classes_code_mode_num) > 1:\n",
    "        print(confidence_list_total)\n",
    "        print( df.format_result(\n",
    "              status='Inconclusive',\n",
    "              result_type=Constants.RESULT_TYPE_INCONC\n",
    "           ))\n",
    "    else:\n",
    "        index = pred_classes_code_mode.argmax()\n",
    "        print(f\"Predicted Index: {index}\")\n",
    "        confidence = np.round(((confidence_list_total[index] / num_predictions) * 100),2)\n",
    "        pred_class = Constants.CLASS_NAMES[index]\n",
    "        print( df.format_result(\n",
    "                    status='OK',\n",
    "                    result_type=Constants.RESULT_TYPE_CONC,\n",
    "                    pred_class=pred_class,\n",
    "                    confidence=confidence\n",
    "                ))"
   ]
  }
 ],
 "metadata": {
  "kernelspec": {
   "display_name": "Python 3 (ipykernel)",
   "language": "python",
   "name": "python3"
  },
  "language_info": {
   "codemirror_mode": {
    "name": "ipython",
    "version": 3
   },
   "file_extension": ".py",
   "mimetype": "text/x-python",
   "name": "python",
   "nbconvert_exporter": "python",
   "pygments_lexer": "ipython3",
   "version": "3.7.11"
  }
 },
 "nbformat": 4,
 "nbformat_minor": 5
}
